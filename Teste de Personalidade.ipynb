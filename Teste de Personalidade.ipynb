{
 "cells": [
  {
   "cell_type": "code",
   "execution_count": null,
   "id": "e9eaffd7",
   "metadata": {},
   "outputs": [],
   "source": [
    "import numpy as np\n",
    "import pandas as pd\n",
    "import matplotlib.pyplot as plt\n",
    "import seaborn as sns\n",
    "import os\n",
    "from io import open\n",
    "pd.options.display.max_columns = 150"
   ]
  },
  {
   "cell_type": "code",
   "execution_count": null,
   "id": "bb6697d2",
   "metadata": {},
   "outputs": [],
   "source": [
    "data = pd.read_csv('data-final.csv', sep='\\t')"
   ]
  },
  {
   "cell_type": "code",
   "execution_count": null,
   "id": "93f4366e",
   "metadata": {},
   "outputs": [],
   "source": [
    "data.head()"
   ]
  },
  {
   "cell_type": "code",
   "execution_count": null,
   "id": "6544bd37",
   "metadata": {},
   "outputs": [],
   "source": [
    "data.drop(data.columns[50:110], axis=1, inplace=True)"
   ]
  },
  {
   "cell_type": "code",
   "execution_count": null,
   "id": "63a67550",
   "metadata": {},
   "outputs": [],
   "source": [
    "pd.options.display.float_format = \"{:.2f}\".format\n",
    "data.describe()"
   ]
  },
  {
   "cell_type": "code",
   "execution_count": null,
   "id": "b2f17ce2",
   "metadata": {},
   "outputs": [],
   "source": [
    "data[\"EXT1\"].value_counts()"
   ]
  },
  {
   "cell_type": "code",
   "execution_count": null,
   "id": "19193a0a",
   "metadata": {},
   "outputs": [],
   "source": [
    "data[(data == 0).all(axis=1)].describe()"
   ]
  },
  {
   "cell_type": "code",
   "execution_count": null,
   "id": "f7df19db",
   "metadata": {},
   "outputs": [],
   "source": [
    "data = data[(data > 0.00).all(axis=1)]"
   ]
  },
  {
   "cell_type": "code",
   "execution_count": null,
   "id": "52312c15",
   "metadata": {},
   "outputs": [],
   "source": [
    "data[\"EXT1\"].value_counts()"
   ]
  },
  {
   "cell_type": "code",
   "execution_count": null,
   "id": "f13ca6e0",
   "metadata": {},
   "outputs": [],
   "source": [
    "!pip install yellowbrick"
   ]
  },
  {
   "cell_type": "code",
   "execution_count": null,
   "id": "2eb812fd",
   "metadata": {},
   "outputs": [],
   "source": [
    "from sklearn.cluster import KMeans\n",
    "from yellowbrick.cluster import KElbowVisualizer"
   ]
  },
  {
   "cell_type": "code",
   "execution_count": null,
   "id": "f6ef2ec6",
   "metadata": {},
   "outputs": [],
   "source": [
    "kmeans = KMeans()\n",
    "visualizer = KElbowVisualizer(kmeans, k=(2,10))"
   ]
  },
  {
   "cell_type": "code",
   "execution_count": null,
   "id": "8ba2437c",
   "metadata": {},
   "outputs": [],
   "source": [
    "data_sample = data.sample(n=5000, random_state=1)"
   ]
  },
  {
   "cell_type": "code",
   "execution_count": null,
   "id": "fd19f56c",
   "metadata": {},
   "outputs": [],
   "source": [
    "visualizer.fit(data_sample)\n",
    "visualizer.poof()"
   ]
  },
  {
   "cell_type": "code",
   "execution_count": null,
   "id": "9bf469ca",
   "metadata": {},
   "outputs": [],
   "source": [
    "kmeans = KMeans(n_clusters=5)\n",
    "k_fit = kmeans.fit(data)"
   ]
  },
  {
   "cell_type": "code",
   "execution_count": null,
   "id": "e3d3229c",
   "metadata": {},
   "outputs": [],
   "source": [
    "predicoes = k_fit.labels_\n",
    "data['Clusters'] = predicoes"
   ]
  },
  {
   "cell_type": "code",
   "execution_count": null,
   "id": "7cf861e0",
   "metadata": {
    "scrolled": true
   },
   "outputs": [],
   "source": [
    "data.head()"
   ]
  },
  {
   "cell_type": "code",
   "execution_count": null,
   "id": "8918ab76",
   "metadata": {},
   "outputs": [],
   "source": [
    "data[\"Clusters\"].value_counts()"
   ]
  },
  {
   "cell_type": "code",
   "execution_count": null,
   "id": "f8dad285",
   "metadata": {},
   "outputs": [],
   "source": [
    "data.groupby('Clusters').mean()"
   ]
  },
  {
   "cell_type": "code",
   "execution_count": null,
   "id": "4540be5d",
   "metadata": {},
   "outputs": [],
   "source": [
    "col_list = list(data)\n",
    "ext = col_list[0:10]\n",
    "est = col_list[10:20]\n",
    "agr = col_list[20:30]\n",
    "csn = col_list[30:40]\n",
    "opn = col_list[40:50]"
   ]
  },
  {
   "cell_type": "code",
   "execution_count": null,
   "id": "97cb53df",
   "metadata": {},
   "outputs": [],
   "source": [
    "data_soma = pd.DataFrame()\n",
    "data_soma['extroversion'] = data[ext].sum(axis=1)/10\n",
    "data_soma['neurotic'] = data[est].sum(axis=1)/10\n",
    "data_soma['agreable'] = data[agr].sum(axis=1)/10\n",
    "data_soma['conscientious'] = data[csn].sum(axis=1)/10\n",
    "data_soma['open'] = data[opn].sum(axis=1)/10\n",
    "data_soma['clusters'] = predicoes"
   ]
  },
  {
   "cell_type": "code",
   "execution_count": null,
   "id": "bfc2e4fc",
   "metadata": {},
   "outputs": [],
   "source": [
    "data_soma.groupby('clusters').mean()"
   ]
  },
  {
   "cell_type": "code",
   "execution_count": null,
   "id": "79b30aca",
   "metadata": {},
   "outputs": [],
   "source": [
    "data_clusters = data_soma.groupby('clusters').mean()"
   ]
  },
  {
   "cell_type": "code",
   "execution_count": null,
   "id": "eeda504b",
   "metadata": {
    "scrolled": true
   },
   "outputs": [],
   "source": [
    "plt.figure(figsize = (22,3))\n",
    "for i in range(0,5):\n",
    "    plt.subplot(1,5, i+1)\n",
    "    plt.bar(data_clusters.columns, data_clusters.iloc[:, i], color='green', alpha=0.2)\n",
    "    plt.plot(data_clusters.columns, data_clusters.iloc[:, i], color='red')\n",
    "    plt.title('Grupo ' + str(i))\n",
    "    plt.xticks(rotation=60)\n",
    "    plt.ylim(0,4);"
   ]
  },
  {
   "cell_type": "code",
   "execution_count": null,
   "id": "0324918d",
   "metadata": {},
   "outputs": [],
   "source": [
    "#data[:0].to_excel(\"perguntas.xlsx\", index=False)"
   ]
  },
  {
   "cell_type": "code",
   "execution_count": null,
   "id": "6a6eaedf",
   "metadata": {},
   "outputs": [],
   "source": [
    "#meus_dados = pd.read_excel('perguntas.xlsx')"
   ]
  },
  {
   "cell_type": "code",
   "execution_count": null,
   "id": "c04f9d40",
   "metadata": {},
   "outputs": [],
   "source": [
    "#grupo_personalidade = k_fit.predict(meus_dados)[0]\n",
    "#print(\"Meu grupo de personalidade é: \", grupo_personalidade)"
   ]
  },
  {
   "cell_type": "code",
   "execution_count": null,
   "id": "382fc402",
   "metadata": {},
   "outputs": [],
   "source": [
    "#!pip install gradio"
   ]
  },
  {
   "cell_type": "code",
   "execution_count": null,
   "id": "27056bba",
   "metadata": {},
   "outputs": [],
   "source": [
    "import gradio as gr"
   ]
  },
  {
   "cell_type": "code",
   "execution_count": null,
   "id": "306b8600",
   "metadata": {},
   "outputs": [],
   "source": [
    "dicio_questions = open(\"questions.txt\").read().split(\"\\n\")"
   ]
  },
  {
   "cell_type": "code",
   "execution_count": null,
   "id": "f758ad1b",
   "metadata": {},
   "outputs": [],
   "source": [
    "dicio_questions"
   ]
  },
  {
   "cell_type": "code",
   "execution_count": null,
   "id": "52ff4d66",
   "metadata": {},
   "outputs": [],
   "source": [
    "questions = []\n",
    "for q in dicio_questions:\n",
    "    q = str(q)\n",
    "    questions.append(q[q.find(\"\\t\"):].lstrip())"
   ]
  },
  {
   "cell_type": "code",
   "execution_count": null,
   "id": "c18e3f64",
   "metadata": {},
   "outputs": [],
   "source": [
    "questions"
   ]
  },
  {
   "cell_type": "code",
   "execution_count": null,
   "id": "d2723265",
   "metadata": {},
   "outputs": [],
   "source": [
    "inputs_questions = []\n",
    "for q in questions:\n",
    "    obj_input = gr.inputs.Slider(minimum=1, maximum=5, step=1, default=3, label=q)\n",
    "    inputs_questions.append(obj_input)"
   ]
  },
  {
   "cell_type": "code",
   "execution_count": null,
   "id": "7a59e912",
   "metadata": {},
   "outputs": [],
   "source": [
    "inputs_questions"
   ]
  },
  {
   "cell_type": "code",
   "execution_count": null,
   "id": "99490571",
   "metadata": {},
   "outputs": [],
   "source": [
    "def predict(*outputs_questions):\n",
    "    output_questions = np.array(outputs_questios).reshape(1, -1)\n",
    "    return k_fit.predict(outputs_questions)\n",
    "\n",
    "iface = gr.Interface(\n",
    "                    fn = predict,\n",
    "                    title = \"Big Five Personality\",\n",
    "                    description = \"Sistema para detecção de traços de personalidade.\",\n",
    "                    inputs = inputs_questions,\n",
    "                    outputs=\"text\")\n",
    "iface.launch(share=True)"
   ]
  },
  {
   "cell_type": "code",
   "execution_count": null,
   "id": "08aed07c",
   "metadata": {},
   "outputs": [],
   "source": [
    "string = ['I am the life of the party.',\n",
    " 'I dont talk a lot.',\n",
    " 'I feel comfortable around people.',\n",
    " 'I keep in the background.',\n",
    " 'I start conversations.',\n",
    " 'I have little to say.',\n",
    " 'I talk to a lot of different people at parties.',\n",
    " 'I dont like to draw attention to myself.',\n",
    " 'I dont mind being the center of attention.',\n",
    " 'I am quiet around strangers.',\n",
    " 'I get stressed out easily.',\n",
    " 'I am relaxed most of the time.',\n",
    " 'I worry about things.',\n",
    " 'I seldom feel blue.',\n",
    " 'I am easily disturbed.',\n",
    " 'I get upset easily.',\n",
    " 'I change my mood a lot.',\n",
    " 'I have frequent mood swings.',\n",
    " 'I get irritated easily.',\n",
    " 'I often feel blue.',\n",
    " 'I feel little concern for others.',\n",
    " 'I am interested in people.',\n",
    " 'I insult people.',\n",
    " 'I sympathize with others feelings.',\n",
    " 'I am not interested in other peoples problems.',\n",
    " 'I have a soft heart.',\n",
    " 'I am not really interested in others.',\n",
    " 'I take time out for others.',\n",
    " 'I feel others emotions.',\n",
    " 'I make people feel at ease.',\n",
    " 'I am always prepared.',\n",
    " 'I leave my belongings around.',\n",
    " 'I pay attention to details.',\n",
    " 'I make a mess of things.',\n",
    " 'I get chores done right away.',\n",
    " 'I often forget to put things back in their proper place.',\n",
    " 'I like order.',\n",
    " 'I shirk my duties.',\n",
    " 'I follow a schedule.',\n",
    " 'I am exacting in my work.',\n",
    " 'I have a rich vocabulary.',\n",
    " 'I have difficulty understanding abstract ideas.',\n",
    " 'I have a vivid imagination.',\n",
    " 'I am not interested in abstract ideas.',\n",
    " 'I have excellent ideas.',\n",
    " 'I do not have a good imagination.',\n",
    " 'I am quick to understand things.',\n",
    " 'I use difficult words.',\n",
    " 'I spend time reflecting on things.',\n",
    " 'I am full of ideas.']\n",
    "\n",
    "new_string = [element.replace(\",\", \" \") for element in string]\n",
    "\n",
    "print(new_string)"
   ]
  }
 ],
 "metadata": {
  "kernelspec": {
   "display_name": "Python 3 (ipykernel)",
   "language": "python",
   "name": "python3"
  },
  "language_info": {
   "codemirror_mode": {
    "name": "ipython",
    "version": 3
   },
   "file_extension": ".py",
   "mimetype": "text/x-python",
   "name": "python",
   "nbconvert_exporter": "python",
   "pygments_lexer": "ipython3",
   "version": "3.9.12"
  }
 },
 "nbformat": 4,
 "nbformat_minor": 5
}
